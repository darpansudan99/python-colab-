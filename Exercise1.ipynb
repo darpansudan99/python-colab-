{
  "nbformat": 4,
  "nbformat_minor": 0,
  "metadata": {
    "colab": {
      "provenance": [],
      "authorship_tag": "ABX9TyOPSLnESBpDmhqoOC1lThge",
      "include_colab_link": true
    },
    "kernelspec": {
      "name": "python3",
      "display_name": "Python 3"
    },
    "language_info": {
      "name": "python"
    }
  },
  "cells": [
    {
      "cell_type": "markdown",
      "metadata": {
        "id": "view-in-github",
        "colab_type": "text"
      },
      "source": [
        "<a href=\"https://colab.research.google.com/github/darpansudan99/python-colab-/blob/main/Exercise1.ipynb\" target=\"_parent\"><img src=\"https://colab.research.google.com/assets/colab-badge.svg\" alt=\"Open In Colab\"/></a>"
      ]
    },
    {
      "cell_type": "code",
      "execution_count": null,
      "metadata": {
        "id": "ulwNlK6RZGqO"
      },
      "outputs": [],
      "source": [
        "# Exercise 1\n",
        "# Using the print() function, print to the console: 'Learn Python!'\n",
        "\n",
        "print(\"Learn Python!\")\n"
      ]
    }
  ]
}