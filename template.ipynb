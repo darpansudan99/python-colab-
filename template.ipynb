{
  "nbformat": 4,
  "nbformat_minor": 0,
  "metadata": {
    "colab": {
      "provenance": [],
      "authorship_tag": "ABX9TyO8PS/gf9yjw598rmrDjJz8",
      "include_colab_link": true
    },
    "kernelspec": {
      "name": "python3",
      "display_name": "Python 3"
    },
    "language_info": {
      "name": "python"
    }
  },
  "cells": [
    {
      "cell_type": "markdown",
      "metadata": {
        "id": "view-in-github",
        "colab_type": "text"
      },
      "source": [
        "<a href=\"https://colab.research.google.com/github/darpansudan99/python-colab-/blob/main/template.ipynb\" target=\"_parent\"><img src=\"https://colab.research.google.com/assets/colab-badge.svg\" alt=\"Open In Colab\"/></a>"
      ]
    },
    {
      "cell_type": "markdown",
      "source": [
        "### Sales"
      ],
      "metadata": {
        "id": "zZuv6bcg1WSI"
      }
    },
    {
      "cell_type": "code",
      "source": [
        "revenue = 10000\n",
        "tax = 0.19\n",
        "income = revenue * tax\n",
        "income"
      ],
      "metadata": {
        "colab": {
          "base_uri": "https://localhost:8080/"
        },
        "id": "Lgzw-U2g017S",
        "outputId": "08598b57-f451-4887-b010-f8b10b4b8d20"
      },
      "execution_count": 4,
      "outputs": [
        {
          "output_type": "execute_result",
          "data": {
            "text/plain": [
              "1900.0"
            ]
          },
          "metadata": {},
          "execution_count": 4
        }
      ]
    },
    {
      "cell_type": "code",
      "source": [
        "print(income)"
      ],
      "metadata": {
        "colab": {
          "base_uri": "https://localhost:8080/"
        },
        "id": "bkx1Jqfa1Igh",
        "outputId": "e7102a42-5430-4a23-98e6-43bf5dc51300"
      },
      "execution_count": 5,
      "outputs": [
        {
          "output_type": "stream",
          "name": "stdout",
          "text": [
            "1900.0\n"
          ]
        }
      ]
    },
    {
      "cell_type": "markdown",
      "source": [
        "### Summary"
      ],
      "metadata": {
        "id": "RJ8R4VCk1dwz"
      }
    },
    {
      "cell_type": "code",
      "source": [
        "import numpy as np\n",
        "\n",
        "np.__version__"
      ],
      "metadata": {
        "colab": {
          "base_uri": "https://localhost:8080/",
          "height": 36
        },
        "id": "-BuOsqH01SVf",
        "outputId": "4ce99798-b07a-4d8d-c5de-09d68b64f437"
      },
      "execution_count": 6,
      "outputs": [
        {
          "output_type": "execute_result",
          "data": {
            "text/plain": [
              "'1.22.4'"
            ],
            "application/vnd.google.colaboratory.intrinsic+json": {
              "type": "string"
            }
          },
          "metadata": {},
          "execution_count": 6
        }
      ]
    },
    {
      "cell_type": "code",
      "source": [
        "np.random.rand"
      ],
      "metadata": {
        "id": "JDJ5Awl71vfu"
      },
      "execution_count": 7,
      "outputs": []
    },
    {
      "cell_type": "code",
      "source": [
        "pip install imageai"
      ],
      "metadata": {
        "colab": {
          "base_uri": "https://localhost:8080/"
        },
        "id": "_OqxKZck2i_s",
        "outputId": "c849792c-dd55-466f-94e2-1bd6b7498c2d"
      },
      "execution_count": 9,
      "outputs": [
        {
          "output_type": "stream",
          "name": "stdout",
          "text": [
            "Looking in indexes: https://pypi.org/simple, https://us-python.pkg.dev/colab-wheels/public/simple/\n",
            "Collecting imageai\n",
            "  Downloading imageai-3.0.3-py3-none-any.whl (69 kB)\n",
            "\u001b[2K     \u001b[90m━━━━━━━━━━━━━━━━━━━━━━━━━━━━━━━━━━━━━━━━\u001b[0m \u001b[32m69.8/69.8 KB\u001b[0m \u001b[31m4.1 MB/s\u001b[0m eta \u001b[36m0:00:00\u001b[0m\n",
            "\u001b[?25hInstalling collected packages: imageai\n",
            "Successfully installed imageai-3.0.3\n"
          ]
        }
      ]
    },
    {
      "cell_type": "code",
      "source": [
        "import imageai"
      ],
      "metadata": {
        "id": "FxQ8qaOx2lnd"
      },
      "execution_count": 11,
      "outputs": []
    },
    {
      "cell_type": "markdown",
      "source": [
        "Markdown"
      ],
      "metadata": {
        "id": "mZ9jSzxF25uI"
      }
    },
    {
      "cell_type": "markdown",
      "source": [
        "Examples of *markdown*\n",
        "Examples of **markdown**  \n",
        "Examples of __markdown__\n",
        "Examples of `markdown`\n",
        "```\n",
        "Examples of markdown\n",
        "```\n",
        ">Python\n",
        ">>Code\n",
        "\n",
        "An ordered list:\n",
        "1. One\n",
        "2. Two\n",
        "3. Three\n",
        "\n",
        "An Unordered list:\n",
        "* One\n",
        "* Two\n",
        "* Three\n",
        "\n",
        "#Adding a link \n",
        "[google](https://www.google.com/)\n",
        "\n"
      ],
      "metadata": {
        "id": "M_7BUUjQ3Cw5"
      }
    },
    {
      "cell_type": "markdown",
      "source": [
        "#Adding a logo\n",
        "![Python logo](https://cdn.thenewstack.io/media/2021/11/ab06a958-pythonlogo.png)"
      ],
      "metadata": {
        "id": "LM_Rf3Tx5qaA"
      }
    },
    {
      "cell_type": "markdown",
      "source": [
        "#Mathematics Equations\n",
        "$ y = x^2$\n",
        "\n",
        "$\\frac{1}{n} \\sum_{i=1}^{n}$"
      ],
      "metadata": {
        "id": "49xBTBIv5vvs"
      }
    },
    {
      "cell_type": "markdown",
      "source": [
        "#Matrix\n",
        "$A = \\begin{pmatrix}\n",
        "a_{1, 1} & a_{1, 2} \\\\\n",
        "a_{2, 1} & a_{2, 2}\n",
        "\\end{pmatrix}$"
      ],
      "metadata": {
        "id": "E_XQirnB6PvM"
      }
    },
    {
      "cell_type": "markdown",
      "source": [
        "Col1 | Col2 | Col3\n",
        "--- | --- | ---\n",
        "val1 | val2 | val3\n",
        "val4 | val5 | val6"
      ],
      "metadata": {
        "id": "UT5JcX4t6z--"
      }
    },
    {
      "cell_type": "code",
      "source": [],
      "metadata": {
        "id": "3qAxQ8nS7JPL"
      },
      "execution_count": null,
      "outputs": []
    }
  ]
}